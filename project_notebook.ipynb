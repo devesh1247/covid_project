{
 "cells": [
  {
   "cell_type": "code",
   "execution_count": 20,
   "id": "11174708",
   "metadata": {
    "execution": {
     "iopub.execute_input": "2025-07-15T09:53:41.846248Z",
     "iopub.status.busy": "2025-07-15T09:53:41.846248Z",
     "iopub.status.idle": "2025-07-15T09:53:47.402643Z",
     "shell.execute_reply": "2025-07-15T09:53:47.402643Z"
    },
    "lines_to_next_cell": 2
   },
   "outputs": [],
   "source": [
    "# IMPORTS\n",
    "import os\n",
    "import pandas as pd\n",
    "import numpy as np\n",
    "import matplotlib.pyplot as plt\n",
    "import seaborn as sns"
   ]
  },
  {
   "cell_type": "code",
   "execution_count": 21,
   "id": "010b8dbf",
   "metadata": {
    "execution": {
     "iopub.execute_input": "2025-07-15T09:53:47.407752Z",
     "iopub.status.busy": "2025-07-15T09:53:47.407752Z",
     "iopub.status.idle": "2025-07-15T09:53:47.413844Z",
     "shell.execute_reply": "2025-07-15T09:53:47.412788Z"
    }
   },
   "outputs": [],
   "source": [
    "# CONFIGURATION\n",
    "DATA_PATH    = 'data/COVID clinical trials.csv'  \n",
    "OUTPUT_DIR   = 'outputs/figures'                 \n",
    "CLEANED_PATH = 'outputs/cleaned_trials.csv'     \n",
    "RANDOM_SEED  = 123                               "
   ]
  },
  {
   "cell_type": "code",
   "execution_count": 22,
   "id": "088bcd10",
   "metadata": {
    "execution": {
     "iopub.execute_input": "2025-07-15T09:53:47.422906Z",
     "iopub.status.busy": "2025-07-15T09:53:47.418721Z",
     "iopub.status.idle": "2025-07-15T09:53:47.430241Z",
     "shell.execute_reply": "2025-07-15T09:53:47.430241Z"
    }
   },
   "outputs": [],
   "source": [
    "os.makedirs(OUTPUT_DIR, exist_ok=True)\n",
    "np.random.seed(RANDOM_SEED)"
   ]
  },
  {
   "cell_type": "markdown",
   "id": "0d5110d9",
   "metadata": {},
   "source": [
    "LOAD & INITIAL INSPECTION"
   ]
  },
  {
   "cell_type": "code",
   "execution_count": 23,
   "id": "dcc15ec2",
   "metadata": {
    "execution": {
     "iopub.execute_input": "2025-07-15T09:53:47.436130Z",
     "iopub.status.busy": "2025-07-15T09:53:47.436130Z",
     "iopub.status.idle": "2025-07-15T09:53:47.710680Z",
     "shell.execute_reply": "2025-07-15T09:53:47.710680Z"
    }
   },
   "outputs": [
    {
     "name": "stdout",
     "output_type": "stream",
     "text": [
      "1) Data loaded:\n",
      "  • rows: 5783 columns: 27\n",
      "<class 'pandas.core.frame.DataFrame'>\n",
      "RangeIndex: 5783 entries, 0 to 5782\n",
      "Data columns (total 27 columns):\n",
      " #   Column                   Non-Null Count  Dtype  \n",
      "---  ------                   --------------  -----  \n",
      " 0   Rank                     5783 non-null   int64  \n",
      " 1   NCT Number               5783 non-null   object \n",
      " 2   Title                    5783 non-null   object \n",
      " 3   Acronym                  2480 non-null   object \n",
      " 4   Status                   5783 non-null   object \n",
      " 5   Study Results            5783 non-null   object \n",
      " 6   Conditions               5783 non-null   object \n",
      " 7   Interventions            4897 non-null   object \n",
      " 8   Outcome Measures         5748 non-null   object \n",
      " 9   Sponsor/Collaborators    5783 non-null   object \n",
      " 10  Gender                   5773 non-null   object \n",
      " 11  Age                      5783 non-null   object \n",
      " 12  Phases                   3322 non-null   object \n",
      " 13  Enrollment               5749 non-null   float64\n",
      " 14  Funded Bys               5783 non-null   object \n",
      " 15  Study Type               5783 non-null   object \n",
      " 16  Study Designs            5748 non-null   object \n",
      " 17  Other IDs                5782 non-null   object \n",
      " 18  Start Date               5749 non-null   object \n",
      " 19  Primary Completion Date  5747 non-null   object \n",
      " 20  Completion Date          5747 non-null   object \n",
      " 21  First Posted             5783 non-null   object \n",
      " 22  Results First Posted     36 non-null     object \n",
      " 23  Last Update Posted       5783 non-null   object \n",
      " 24  Locations                5198 non-null   object \n",
      " 25  Study Documents          182 non-null    object \n",
      " 26  URL                      5783 non-null   object \n",
      "dtypes: float64(1), int64(1), object(25)\n",
      "memory usage: 1.2+ MB\n",
      "None \n",
      "\n"
     ]
    }
   ],
   "source": [
    "df = pd.read_csv(DATA_PATH)\n",
    "print(\"1) Data loaded:\")\n",
    "print(\"  • rows:\", df.shape[0], \"columns:\", df.shape[1])\n",
    "print(df.info(), \"\\n\")"
   ]
  },
  {
   "cell_type": "code",
   "execution_count": 24,
   "id": "a483f948",
   "metadata": {
    "execution": {
     "iopub.execute_input": "2025-07-15T09:53:47.716146Z",
     "iopub.status.busy": "2025-07-15T09:53:47.716146Z",
     "iopub.status.idle": "2025-07-15T09:53:47.736240Z",
     "shell.execute_reply": "2025-07-15T09:53:47.736240Z"
    }
   },
   "outputs": [
    {
     "name": "stdout",
     "output_type": "stream",
     "text": [
      "First 5 rows:\n",
      "   Rank   NCT Number                                              Title  \\\n",
      "0     1  NCT04785898  Diagnostic Performance of the ID Now™ COVID-19...   \n",
      "1     2  NCT04595136  Study to Evaluate the Efficacy of COVID19-0001...   \n",
      "2     3  NCT04395482  Lung CT Scan Analysis of SARS-CoV2 Induced Lun...   \n",
      "3     4  NCT04416061  The Role of a Private Hospital in Hong Kong Am...   \n",
      "4     5  NCT04395924         Maternal-foetal Transmission of SARS-Cov-2   \n",
      "\n",
      "        Acronym                  Status         Study Results  \\\n",
      "0   COVID-IDNow  Active, not recruiting  No Results Available   \n",
      "1      COVID-19      Not yet recruiting  No Results Available   \n",
      "2   TAC-COVID19              Recruiting  No Results Available   \n",
      "3      COVID-19  Active, not recruiting  No Results Available   \n",
      "4  TMF-COVID-19              Recruiting  No Results Available   \n",
      "\n",
      "                                          Conditions  \\\n",
      "0                                            Covid19   \n",
      "1                               SARS-CoV-2 Infection   \n",
      "2                                            covid19   \n",
      "3                                              COVID   \n",
      "4  Maternal Fetal Infection Transmission|COVID-19...   \n",
      "\n",
      "                                       Interventions  \\\n",
      "0   Diagnostic Test: ID Now™ COVID-19 Screening Test   \n",
      "1    Drug: Drug COVID19-0001-USR|Drug: normal saline   \n",
      "2  Other: Lung CT scan analysis in COVID-19 patients   \n",
      "3          Diagnostic Test: COVID 19 Diagnostic Test   \n",
      "4  Diagnostic Test: Diagnosis of SARS-Cov2 by RT-...   \n",
      "\n",
      "                                    Outcome Measures  \\\n",
      "0  Evaluate the diagnostic performance of the ID ...   \n",
      "1  Change on viral load results from baseline aft...   \n",
      "2  A qualitative analysis of parenchymal lung dam...   \n",
      "3  Proportion of asymptomatic subjects|Proportion...   \n",
      "4  COVID-19 by positive PCR in cord blood and / o...   \n",
      "\n",
      "                               Sponsor/Collaborators  ...         Other IDs  \\\n",
      "0              Groupe Hospitalier Paris Saint Joseph  ...       COVID-IDNow   \n",
      "1                         United Medical Specialties  ...  COVID19-0001-USR   \n",
      "2                       University of Milano Bicocca  ...       TAC-COVID19   \n",
      "3                    Hong Kong Sanatorium & Hospital  ...        RC-2020-08   \n",
      "4  Centre Hospitalier Régional d'Orléans|Centre d...  ...      CHRO-2020-10   \n",
      "\n",
      "         Start Date Primary Completion Date   Completion Date  \\\n",
      "0  November 9, 2020       December 22, 2020    April 30, 2021   \n",
      "1  November 2, 2020       December 15, 2020  January 29, 2021   \n",
      "2       May 7, 2020           June 15, 2021     June 15, 2021   \n",
      "3      May 25, 2020           July 31, 2020   August 31, 2020   \n",
      "4       May 5, 2020                May 2021          May 2021   \n",
      "\n",
      "       First Posted Results First Posted Last Update Posted  \\\n",
      "0     March 8, 2021                  NaN      March 8, 2021   \n",
      "1  October 20, 2020                  NaN   October 20, 2020   \n",
      "2      May 20, 2020                  NaN   November 9, 2020   \n",
      "3      June 4, 2020                  NaN       June 4, 2020   \n",
      "4      May 20, 2020                  NaN       June 4, 2020   \n",
      "\n",
      "                                           Locations Study Documents  \\\n",
      "0  Groupe Hospitalier Paris Saint-Joseph, Paris, ...             NaN   \n",
      "1       Cimedical, Barranquilla, Atlantico, Colombia             NaN   \n",
      "2  Ospedale Papa Giovanni XXIII, Bergamo, Italy|P...             NaN   \n",
      "3  Hong Kong Sanatorium & Hospital, Hong Kong, Ho...             NaN   \n",
      "4                       CHR Orléans, Orléans, France             NaN   \n",
      "\n",
      "                                           URL  \n",
      "0  https://ClinicalTrials.gov/show/NCT04785898  \n",
      "1  https://ClinicalTrials.gov/show/NCT04595136  \n",
      "2  https://ClinicalTrials.gov/show/NCT04395482  \n",
      "3  https://ClinicalTrials.gov/show/NCT04416061  \n",
      "4  https://ClinicalTrials.gov/show/NCT04395924  \n",
      "\n",
      "[5 rows x 27 columns] \n",
      "\n"
     ]
    }
   ],
   "source": [
    "# Show a glimpse\n",
    "print(\"First 5 rows:\")\n",
    "print(df.head(), \"\\n\")"
   ]
  },
  {
   "cell_type": "code",
   "execution_count": null,
   "id": "7fa1a5cc",
   "metadata": {},
   "outputs": [],
   "source": []
  },
  {
   "cell_type": "code",
   "execution_count": 25,
   "id": "f22fd82e",
   "metadata": {
    "execution": {
     "iopub.execute_input": "2025-07-15T09:53:47.740273Z",
     "iopub.status.busy": "2025-07-15T09:53:47.740273Z",
     "iopub.status.idle": "2025-07-15T09:53:47.764605Z",
     "shell.execute_reply": "2025-07-15T09:53:47.764041Z"
    }
   },
   "outputs": [
    {
     "name": "stdout",
     "output_type": "stream",
     "text": [
      "2) Dropping columns with >80% missing: ['Results First Posted', 'Study Documents']\n"
     ]
    }
   ],
   "source": [
    "# DROP OVERLY-SPARSE COLUMNS\n",
    "# Columns with >80% missing values are dropped\n",
    "missing_pct = df.isnull().mean()\n",
    "to_drop = missing_pct[missing_pct > 0.80].index.tolist()\n",
    "print(\"2) Dropping columns with >80% missing:\", to_drop)\n",
    "df.drop(columns=to_drop, inplace=True)"
   ]
  },
  {
   "cell_type": "code",
   "execution_count": null,
   "id": "386336a1",
   "metadata": {},
   "outputs": [],
   "source": []
  },
  {
   "cell_type": "markdown",
   "id": "df73e09f",
   "metadata": {},
   "source": [
    "HANDLE MODERATELY MISSING CATEGORICALS"
   ]
  },
  {
   "cell_type": "code",
   "execution_count": 26,
   "id": "7e9d8db8",
   "metadata": {
    "execution": {
     "iopub.execute_input": "2025-07-15T09:53:47.764605Z",
     "iopub.status.busy": "2025-07-15T09:53:47.764605Z",
     "iopub.status.idle": "2025-07-15T09:53:47.781690Z",
     "shell.execute_reply": "2025-07-15T09:53:47.781690Z"
    }
   },
   "outputs": [
    {
     "name": "stdout",
     "output_type": "stream",
     "text": [
      "  • Imputed 'Acronym' missing → 'Unknown'\n",
      "  • Imputed 'Phases' missing → 'Unknown'\n",
      "  • Imputed 'Interventions' missing → 'Unknown'\n"
     ]
    }
   ],
   "source": [
    "# Fill remaining NA in these string fields with 'Unknown'\n",
    "for col in ['Acronym', 'Phases', 'Interventions']:\n",
    "    if col in df.columns:\n",
    "        df[col] = df[col].fillna('Unknown')\n",
    "        print(f\"  • Imputed '{col}' missing → 'Unknown'\")"
   ]
  },
  {
   "cell_type": "markdown",
   "id": "02609cc3",
   "metadata": {},
   "source": [
    "DATE PARSING & FEATURE EXTRACTION"
   ]
  },
  {
   "cell_type": "code",
   "execution_count": 27,
   "id": "52c39a48",
   "metadata": {
    "execution": {
     "iopub.execute_input": "2025-07-15T09:53:47.784744Z",
     "iopub.status.busy": "2025-07-15T09:53:47.784744Z",
     "iopub.status.idle": "2025-07-15T09:53:47.832191Z",
     "shell.execute_reply": "2025-07-15T09:53:47.832191Z"
    },
    "lines_to_next_cell": 2
   },
   "outputs": [
    {
     "name": "stdout",
     "output_type": "stream",
     "text": [
      "4) Parsed and extracted year/month from 'Start Date'\n",
      "4) Parsed and extracted year/month from 'Primary Completion Date'\n",
      "4) Parsed and extracted year/month from 'Completion Date'\n"
     ]
    }
   ],
   "source": [
    "# Convert date strings to datetime, then extract year/month\n",
    "for date_col in ['Start Date', 'Primary Completion Date', 'Completion Date']:\n",
    "    if date_col in df.columns:\n",
    "        df[date_col] = pd.to_datetime(df[date_col], errors='coerce')\n",
    "        df[f'{date_col} Year'] = df[date_col].dt.year\n",
    "        df[f'{date_col} Month'] = df[date_col].dt.month\n",
    "        print(f\"4) Parsed and extracted year/month from '{date_col}'\")"
   ]
  },
  {
   "cell_type": "markdown",
   "id": "ec559e95",
   "metadata": {},
   "source": [
    "NUMERIC COLUMN CLEANUP"
   ]
  },
  {
   "cell_type": "code",
   "execution_count": 28,
   "id": "35f47625",
   "metadata": {
    "execution": {
     "iopub.execute_input": "2025-07-15T09:53:47.837274Z",
     "iopub.status.busy": "2025-07-15T09:53:47.837274Z",
     "iopub.status.idle": "2025-07-15T09:53:47.848916Z",
     "shell.execute_reply": "2025-07-15T09:53:47.848916Z"
    }
   },
   "outputs": [
    {
     "name": "stdout",
     "output_type": "stream",
     "text": [
      "5) Cleaned 'Enrollment', imputed missing with median = 170\n"
     ]
    }
   ],
   "source": [
    "if 'Enrollment' in df.columns:\n",
    "    df['Enrollment'] = pd.to_numeric(df['Enrollment'], errors='coerce')\n",
    "    \n",
    "    df.loc[df['Enrollment'] < 0, 'Enrollment'] = np.nan\n",
    "    enroll_median = int(df['Enrollment'].median())\n",
    "    df['Enrollment'] = df['Enrollment'].fillna(enroll_median)\n",
    "    print(f\"5) Cleaned 'Enrollment', imputed missing with median = {enroll_median}\")"
   ]
  },
  {
   "cell_type": "code",
   "execution_count": null,
   "id": "94ec1cc1",
   "metadata": {},
   "outputs": [],
   "source": []
  },
  {
   "cell_type": "code",
   "execution_count": 29,
   "id": "7f2e38bf",
   "metadata": {
    "execution": {
     "iopub.execute_input": "2025-07-15T09:53:47.854718Z",
     "iopub.status.busy": "2025-07-15T09:53:47.854718Z",
     "iopub.status.idle": "2025-07-15T09:53:47.861160Z",
     "shell.execute_reply": "2025-07-15T09:53:47.861160Z"
    },
    "lines_to_next_cell": 1
   },
   "outputs": [],
   "source": [
    "# UNIVARIATE ANALYSIS (VALUE COUNTS & BARCHARTS)\n",
    "# Helper to save and close figures\n",
    "def save_plot(name):\n",
    "    path = os.path.join(OUTPUT_DIR, name + '.png')\n",
    "    plt.tight_layout()\n",
    "    plt.savefig(path)\n",
    "    plt.close()\n",
    "    print(f\"   • Saved plot: {path}\")"
   ]
  },
  {
   "cell_type": "code",
   "execution_count": 30,
   "id": "c8dca84b",
   "metadata": {
    "execution": {
     "iopub.execute_input": "2025-07-15T09:53:47.866125Z",
     "iopub.status.busy": "2025-07-15T09:53:47.866125Z",
     "iopub.status.idle": "2025-07-15T09:53:48.246648Z",
     "shell.execute_reply": "2025-07-15T09:53:48.246084Z"
    }
   },
   "outputs": [
    {
     "name": "stdout",
     "output_type": "stream",
     "text": [
      "   • Saved plot: outputs/figures\\univariate_status.png\n"
     ]
    }
   ],
   "source": [
    "# Study Status distribution\n",
    "plt.figure(figsize=(6,4))\n",
    "df['Status'].value_counts().plot(kind='bar')\n",
    "plt.title('Study Status Distribution')\n",
    "save_plot('univariate_status')"
   ]
  },
  {
   "cell_type": "code",
   "execution_count": 31,
   "id": "f261ecba",
   "metadata": {
    "execution": {
     "iopub.execute_input": "2025-07-15T09:53:48.246648Z",
     "iopub.status.busy": "2025-07-15T09:53:48.246648Z",
     "iopub.status.idle": "2025-07-15T09:53:48.579240Z",
     "shell.execute_reply": "2025-07-15T09:53:48.579240Z"
    }
   },
   "outputs": [
    {
     "name": "stdout",
     "output_type": "stream",
     "text": [
      "   • Saved plot: outputs/figures\\univariate_phases.png\n"
     ]
    }
   ],
   "source": [
    "# Phases distribution\n",
    "if 'Phases' in df.columns:\n",
    "    plt.figure(figsize=(6,4))\n",
    "    df['Phases'].value_counts().plot(kind='bar', color='skyblue')\n",
    "    plt.title('Clinical Trial Phases')\n",
    "    save_plot('univariate_phases')"
   ]
  },
  {
   "cell_type": "code",
   "execution_count": 32,
   "id": "64d50129",
   "metadata": {
    "execution": {
     "iopub.execute_input": "2025-07-15T09:53:48.584879Z",
     "iopub.status.busy": "2025-07-15T09:53:48.584879Z",
     "iopub.status.idle": "2025-07-15T09:53:49.041458Z",
     "shell.execute_reply": "2025-07-15T09:53:49.041458Z"
    }
   },
   "outputs": [
    {
     "name": "stderr",
     "output_type": "stream",
     "text": [
      "C:\\Users\\DEVESH RAI\\AppData\\Local\\Temp\\ipykernel_21000\\3666006153.py:5: UserWarning: Tight layout not applied. The left and right margins cannot be made large enough to accommodate all Axes decorations.\n",
      "  plt.tight_layout()\n"
     ]
    },
    {
     "name": "stdout",
     "output_type": "stream",
     "text": [
      "   • Saved plot: outputs/figures\\univariate_designs.png\n"
     ]
    }
   ],
   "source": [
    "#  Trial Design types\n",
    "if 'Study Designs' in df.columns:\n",
    "    plt.figure(figsize=(6,4))\n",
    "    df['Study Designs'].value_counts().nlargest(10).plot(kind='barh')\n",
    "    plt.title('Top 10 Study Designs')\n",
    "    save_plot('univariate_designs')"
   ]
  },
  {
   "cell_type": "code",
   "execution_count": null,
   "id": "cd2e6c38",
   "metadata": {},
   "outputs": [],
   "source": []
  },
  {
   "cell_type": "code",
   "execution_count": 33,
   "id": "c6017a2c",
   "metadata": {
    "execution": {
     "iopub.execute_input": "2025-07-15T09:53:49.044770Z",
     "iopub.status.busy": "2025-07-15T09:53:49.044770Z",
     "iopub.status.idle": "2025-07-15T09:53:49.814072Z",
     "shell.execute_reply": "2025-07-15T09:53:49.813052Z"
    }
   },
   "outputs": [
    {
     "name": "stdout",
     "output_type": "stream",
     "text": [
      "   • Saved plot: outputs/figures\\bivariate_phase_status.png\n"
     ]
    }
   ],
   "source": [
    "# BIVARIATE ANALYSIS\n",
    "# Status vs Phase\n",
    "if {'Status','Phases'}.issubset(df.columns):\n",
    "    cross = pd.crosstab(df['Phases'], df['Status'], normalize='index')\n",
    "    cross.plot(kind='bar', stacked=True, figsize=(7,5))\n",
    "    plt.title('Study Phases vs Status (proportion)')\n",
    "    save_plot('bivariate_phase_status')"
   ]
  },
  {
   "cell_type": "code",
   "execution_count": null,
   "id": "f55d5211",
   "metadata": {},
   "outputs": [],
   "source": []
  },
  {
   "cell_type": "code",
   "execution_count": 34,
   "id": "6f75c57b",
   "metadata": {
    "execution": {
     "iopub.execute_input": "2025-07-15T09:53:49.814646Z",
     "iopub.status.busy": "2025-07-15T09:53:49.814646Z",
     "iopub.status.idle": "2025-07-15T09:53:50.138281Z",
     "shell.execute_reply": "2025-07-15T09:53:50.138281Z"
    }
   },
   "outputs": [
    {
     "name": "stdout",
     "output_type": "stream",
     "text": [
      "   • Saved plot: outputs/figures\\timeseries_monthly_trials.png\n"
     ]
    }
   ],
   "source": [
    "# TIME-SERIES TREND\n",
    "# Monthly count of trials started\n",
    "if 'Start Date Year' in df.columns:\n",
    "    monthly = df.groupby(['Start Date Year','Start Date Month']).size().reset_index(name='Count')\n",
    "    monthly = monthly.rename(columns={'Start Date Year': 'year', 'Start Date Month': 'month'})\n",
    "    monthly['day'] = 1\n",
    "    monthly['Date'] = pd.to_datetime(monthly[['year', 'month', 'day']])\n",
    "    plt.figure(figsize=(8,4))\n",
    "    plt.plot(monthly['Date'], monthly['Count'], marker='o')\n",
    "    plt.title('Monthly Number of COVID-19 Trial Starts')\n",
    "    plt.xlabel('Date')\n",
    "    plt.ylabel('Number of Trials')\n",
    "    save_plot('timeseries_monthly_trials')"
   ]
  },
  {
   "cell_type": "code",
   "execution_count": null,
   "id": "72ecd8da",
   "metadata": {},
   "outputs": [],
   "source": []
  },
  {
   "cell_type": "code",
   "execution_count": 35,
   "id": "6dcb3152",
   "metadata": {
    "execution": {
     "iopub.execute_input": "2025-07-15T09:53:50.143912Z",
     "iopub.status.busy": "2025-07-15T09:53:50.143912Z",
     "iopub.status.idle": "2025-07-15T09:53:50.420246Z",
     "shell.execute_reply": "2025-07-15T09:53:50.420246Z"
    }
   },
   "outputs": [
    {
     "name": "stdout",
     "output_type": "stream",
     "text": [
      "   • Saved plot: outputs/figures\\feature_country_counts.png\n"
     ]
    }
   ],
   "source": [
    "# FEATURE ENGINEERING (COUNTRY EXTRACTION)\n",
    "# If 'Locations' column exists, extract first country seen\n",
    "if 'Locations' in df.columns:\n",
    "    def extract_country(loc):\n",
    "        return loc.split(';')[0].split(',')[-1].strip()\n",
    "    df['Country'] = df['Locations'].fillna('').apply(extract_country)\n",
    "    top_countries = df['Country'].value_counts().nlargest(10)\n",
    "    plt.figure(figsize=(6,4))\n",
    "    top_countries.plot(kind='bar')\n",
    "    plt.title('Top 10 Countries by Trial Count')\n",
    "    save_plot('feature_country_counts')"
   ]
  },
  {
   "cell_type": "code",
   "execution_count": null,
   "id": "8d0fe59a",
   "metadata": {},
   "outputs": [],
   "source": []
  },
  {
   "cell_type": "code",
   "execution_count": 36,
   "id": "92d9b6bf",
   "metadata": {
    "execution": {
     "iopub.execute_input": "2025-07-15T09:53:50.425991Z",
     "iopub.status.busy": "2025-07-15T09:53:50.425991Z",
     "iopub.status.idle": "2025-07-15T09:53:50.704692Z",
     "shell.execute_reply": "2025-07-15T09:53:50.704171Z"
    }
   },
   "outputs": [
    {
     "name": "stdout",
     "output_type": "stream",
     "text": [
      "   • Saved plot: outputs/figures\\top_interventions.png\n"
     ]
    }
   ],
   "source": [
    "#  TOP 10 INTERVENTIONS\n",
    "if 'Interventions' in df.columns:\n",
    "    top_interventions = df['Interventions'].str.split('|').explode().value_counts().nlargest(10)\n",
    "    plt.figure(figsize=(8,4))\n",
    "    top_interventions.plot(kind='bar', color='teal')\n",
    "    plt.title('Top 10 Interventions in COVID-19 Trials')\n",
    "    plt.ylabel('Number of Trials')\n",
    "    save_plot('top_interventions')"
   ]
  },
  {
   "cell_type": "code",
   "execution_count": 37,
   "id": "2053cd3f",
   "metadata": {
    "execution": {
     "iopub.execute_input": "2025-07-15T09:53:50.709745Z",
     "iopub.status.busy": "2025-07-15T09:53:50.709745Z",
     "iopub.status.idle": "2025-07-15T09:53:51.138722Z",
     "shell.execute_reply": "2025-07-15T09:53:51.138722Z"
    }
   },
   "outputs": [
    {
     "name": "stdout",
     "output_type": "stream",
     "text": [
      "10) Cleaned dataset saved to outputs/cleaned_trials.csv\n"
     ]
    }
   ],
   "source": [
    "# SAVE CLEANED DATA\n",
    "df.to_csv(CLEANED_PATH, index=False)\n",
    "print(f\"10) Cleaned dataset saved to {CLEANED_PATH}\")"
   ]
  },
  {
   "cell_type": "code",
   "execution_count": 38,
   "id": "a7e932ef",
   "metadata": {
    "execution": {
     "iopub.execute_input": "2025-07-15T09:53:51.144645Z",
     "iopub.status.busy": "2025-07-15T09:53:51.144115Z",
     "iopub.status.idle": "2025-07-15T09:53:51.148816Z",
     "shell.execute_reply": "2025-07-15T09:53:51.148816Z"
    }
   },
   "outputs": [
    {
     "name": "stdout",
     "output_type": "stream",
     "text": [
      "11) EDA complete — all figures are in outputs/figures\n",
      "    You can now proceed to deeper analysis or model building.\n"
     ]
    }
   ],
   "source": [
    "print(\"11) EDA complete — all figures are in\", OUTPUT_DIR)\n",
    "print(\"    You can now proceed to deeper analysis or model building.\")"
   ]
  }
 ],
 "metadata": {
  "jupytext": {
   "cell_metadata_filter": "-all",
   "main_language": "python",
   "notebook_metadata_filter": "-all"
  },
  "kernelspec": {
   "display_name": "Python 3",
   "language": "python",
   "name": "python3"
  },
  "language_info": {
   "codemirror_mode": {
    "name": "ipython",
    "version": 3
   },
   "file_extension": ".py",
   "mimetype": "text/x-python",
   "name": "python",
   "nbconvert_exporter": "python",
   "pygments_lexer": "ipython3",
   "version": "3.11.0"
  }
 },
 "nbformat": 4,
 "nbformat_minor": 5
}
